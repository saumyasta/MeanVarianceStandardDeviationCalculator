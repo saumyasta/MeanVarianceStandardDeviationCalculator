{
 "cells": [
  {
   "cell_type": "code",
   "execution_count": 4,
   "id": "1ffeca0b",
   "metadata": {},
   "outputs": [],
   "source": [
    "import numpy as np\n",
    "\n",
    "def calculate(numbers):\n",
    "    if len(numbers) != 9:\n",
    "        raise ValueError(\"List must contain nine numbers.\")\n",
    "    \n",
    "    matrix = np.array(numbers).reshape(3, 3)\n",
    "    result = {\n",
    "        'mean': [list(np.mean(matrix, axis=1)), list(np.mean(matrix, axis=0)), np.mean(matrix)],\n",
    "        'variance': [list(np.var(matrix, axis=1)), list(np.var(matrix, axis=0)), np.var(matrix)],\n",
    "        'standard deviation': [list(np.std(matrix, axis=1)), list(np.std(matrix, axis=0)), np.std(matrix)],\n",
    "        'max': [list(np.max(matrix, axis=1)), list(np.max(matrix, axis=0)), np.max(matrix)],\n",
    "        'min': [list(np.min(matrix, axis=1)), list(np.min(matrix, axis=0)), np.min(matrix)],\n",
    "        'sum': [list(np.sum(matrix, axis=1)), list(np.sum(matrix, axis=0)), np.sum(matrix)]\n",
    "    }\n",
    "    \n",
    "    return result"
   ]
  },
  {
   "cell_type": "code",
   "execution_count": 3,
   "id": "22b1ff6a",
   "metadata": {},
   "outputs": [
    {
     "data": {
      "text/plain": [
       "{'mean': [[1.0, 4.0, 7.0], [3.0, 4.0, 5.0], 4.0],\n",
       " 'variance': [[0.6666666666666666, 0.6666666666666666, 0.6666666666666666],\n",
       "  [6.0, 6.0, 6.0],\n",
       "  6.666666666666667],\n",
       " 'standard deviation': [[0.816496580927726,\n",
       "   0.816496580927726,\n",
       "   0.816496580927726],\n",
       "  [2.449489742783178, 2.449489742783178, 2.449489742783178],\n",
       "  2.581988897471611],\n",
       " 'max': [[2, 5, 8], [6, 7, 8], 8],\n",
       " 'min': [[0, 3, 6], [0, 1, 2], 0],\n",
       " 'sum': [[3, 12, 21], [9, 12, 15], 36]}"
      ]
     },
     "execution_count": 3,
     "metadata": {},
     "output_type": "execute_result"
    }
   ],
   "source": [
    "calculate([0,1,2,3,4,5,6,7,8])"
   ]
  },
  {
   "cell_type": "code",
   "execution_count": null,
   "id": "e9cea32f",
   "metadata": {},
   "outputs": [],
   "source": []
  }
 ],
 "metadata": {
  "kernelspec": {
   "display_name": "Python 3 (ipykernel)",
   "language": "python",
   "name": "python3"
  },
  "language_info": {
   "codemirror_mode": {
    "name": "ipython",
    "version": 3
   },
   "file_extension": ".py",
   "mimetype": "text/x-python",
   "name": "python",
   "nbconvert_exporter": "python",
   "pygments_lexer": "ipython3",
   "version": "3.9.12"
  }
 },
 "nbformat": 4,
 "nbformat_minor": 5
}
